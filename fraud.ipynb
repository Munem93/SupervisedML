{
 "cells": [
  {
   "cell_type": "code",
   "execution_count": 36,
   "metadata": {},
   "outputs": [
    {
     "data": {
      "text/html": [
       "<div>\n",
       "<style scoped>\n",
       "    .dataframe tbody tr th:only-of-type {\n",
       "        vertical-align: middle;\n",
       "    }\n",
       "\n",
       "    .dataframe tbody tr th {\n",
       "        vertical-align: top;\n",
       "    }\n",
       "\n",
       "    .dataframe thead th {\n",
       "        text-align: right;\n",
       "    }\n",
       "</style>\n",
       "<table border=\"1\" class=\"dataframe\">\n",
       "  <thead>\n",
       "    <tr style=\"text-align: right;\">\n",
       "      <th></th>\n",
       "      <th>step</th>\n",
       "      <th>type</th>\n",
       "      <th>amount</th>\n",
       "      <th>nameOrig</th>\n",
       "      <th>oldbalanceOrg</th>\n",
       "      <th>newbalanceOrig</th>\n",
       "      <th>nameDest</th>\n",
       "      <th>oldbalanceDest</th>\n",
       "      <th>newbalanceDest</th>\n",
       "      <th>isFraud</th>\n",
       "      <th>isFlaggedFraud</th>\n",
       "    </tr>\n",
       "  </thead>\n",
       "  <tbody>\n",
       "    <tr>\n",
       "      <th>0</th>\n",
       "      <td>1</td>\n",
       "      <td>PAYMENT</td>\n",
       "      <td>9839.64</td>\n",
       "      <td>C1231006815</td>\n",
       "      <td>170136.0</td>\n",
       "      <td>160296.36</td>\n",
       "      <td>M1979787155</td>\n",
       "      <td>0.0</td>\n",
       "      <td>0.0</td>\n",
       "      <td>0</td>\n",
       "      <td>0</td>\n",
       "    </tr>\n",
       "    <tr>\n",
       "      <th>1</th>\n",
       "      <td>1</td>\n",
       "      <td>PAYMENT</td>\n",
       "      <td>1864.28</td>\n",
       "      <td>C1666544295</td>\n",
       "      <td>21249.0</td>\n",
       "      <td>19384.72</td>\n",
       "      <td>M2044282225</td>\n",
       "      <td>0.0</td>\n",
       "      <td>0.0</td>\n",
       "      <td>0</td>\n",
       "      <td>0</td>\n",
       "    </tr>\n",
       "    <tr>\n",
       "      <th>2</th>\n",
       "      <td>1</td>\n",
       "      <td>TRANSFER</td>\n",
       "      <td>181.00</td>\n",
       "      <td>C1305486145</td>\n",
       "      <td>181.0</td>\n",
       "      <td>0.00</td>\n",
       "      <td>C553264065</td>\n",
       "      <td>0.0</td>\n",
       "      <td>0.0</td>\n",
       "      <td>1</td>\n",
       "      <td>0</td>\n",
       "    </tr>\n",
       "    <tr>\n",
       "      <th>3</th>\n",
       "      <td>1</td>\n",
       "      <td>CASH_OUT</td>\n",
       "      <td>181.00</td>\n",
       "      <td>C840083671</td>\n",
       "      <td>181.0</td>\n",
       "      <td>0.00</td>\n",
       "      <td>C38997010</td>\n",
       "      <td>21182.0</td>\n",
       "      <td>0.0</td>\n",
       "      <td>1</td>\n",
       "      <td>0</td>\n",
       "    </tr>\n",
       "    <tr>\n",
       "      <th>4</th>\n",
       "      <td>1</td>\n",
       "      <td>PAYMENT</td>\n",
       "      <td>11668.14</td>\n",
       "      <td>C2048537720</td>\n",
       "      <td>41554.0</td>\n",
       "      <td>29885.86</td>\n",
       "      <td>M1230701703</td>\n",
       "      <td>0.0</td>\n",
       "      <td>0.0</td>\n",
       "      <td>0</td>\n",
       "      <td>0</td>\n",
       "    </tr>\n",
       "  </tbody>\n",
       "</table>\n",
       "</div>"
      ],
      "text/plain": [
       "   step      type    amount     nameOrig  oldbalanceOrg  newbalanceOrig  \\\n",
       "0     1   PAYMENT   9839.64  C1231006815       170136.0       160296.36   \n",
       "1     1   PAYMENT   1864.28  C1666544295        21249.0        19384.72   \n",
       "2     1  TRANSFER    181.00  C1305486145          181.0            0.00   \n",
       "3     1  CASH_OUT    181.00   C840083671          181.0            0.00   \n",
       "4     1   PAYMENT  11668.14  C2048537720        41554.0        29885.86   \n",
       "\n",
       "      nameDest  oldbalanceDest  newbalanceDest  isFraud  isFlaggedFraud  \n",
       "0  M1979787155             0.0             0.0        0               0  \n",
       "1  M2044282225             0.0             0.0        0               0  \n",
       "2   C553264065             0.0             0.0        1               0  \n",
       "3    C38997010         21182.0             0.0        1               0  \n",
       "4  M1230701703             0.0             0.0        0               0  "
      ]
     },
     "execution_count": 36,
     "metadata": {},
     "output_type": "execute_result"
    }
   ],
   "source": [
    "# Import necessary libraries\n",
    "import pandas as pd\n",
    "import numpy as np\n",
    "import matplotlib.pyplot as plt\n",
    "from matplotlib.ticker import FuncFormatter\n",
    "import seaborn as sns\n",
    "from sklearn.linear_model import LogisticRegression\n",
    "from sklearn.tree import DecisionTreeClassifier\n",
    "from sklearn.model_selection import train_test_split\n",
    "from sklearn.preprocessing import LabelEncoder, StandardScaler, RobustScaler\n",
    "from tensorflow.keras.models import Sequential\n",
    "from tensorflow.keras.layers import Dense\n",
    "from sklearn.ensemble import RandomForestClassifier\n",
    "from sklearn.metrics import accuracy_score, classification_report, confusion_matrix\n",
    "from sklearn.neighbors import KNeighborsClassifier\n",
    "\n",
    "# Load the dataset\n",
    "df = pd.read_csv('Fraud_detection.csv')\n",
    "\n",
    "df.head()\n",
    "\n"
   ]
  },
  {
   "cell_type": "code",
   "execution_count": 3,
   "metadata": {},
   "outputs": [
    {
     "data": {
      "text/html": [
       "<div>\n",
       "<style scoped>\n",
       "    .dataframe tbody tr th:only-of-type {\n",
       "        vertical-align: middle;\n",
       "    }\n",
       "\n",
       "    .dataframe tbody tr th {\n",
       "        vertical-align: top;\n",
       "    }\n",
       "\n",
       "    .dataframe thead th {\n",
       "        text-align: right;\n",
       "    }\n",
       "</style>\n",
       "<table border=\"1\" class=\"dataframe\">\n",
       "  <thead>\n",
       "    <tr style=\"text-align: right;\">\n",
       "      <th></th>\n",
       "      <th>step</th>\n",
       "      <th>type</th>\n",
       "      <th>amount</th>\n",
       "      <th>nameOrig</th>\n",
       "      <th>oldbalanceOrg</th>\n",
       "      <th>newbalanceOrig</th>\n",
       "      <th>nameDest</th>\n",
       "      <th>oldbalanceDest</th>\n",
       "      <th>newbalanceDest</th>\n",
       "      <th>isFraud</th>\n",
       "      <th>isFlaggedFraud</th>\n",
       "    </tr>\n",
       "  </thead>\n",
       "  <tbody>\n",
       "    <tr>\n",
       "      <th>1048570</th>\n",
       "      <td>95</td>\n",
       "      <td>CASH_OUT</td>\n",
       "      <td>132557.35</td>\n",
       "      <td>C1179511630</td>\n",
       "      <td>479803.00</td>\n",
       "      <td>347245.65</td>\n",
       "      <td>C435674507</td>\n",
       "      <td>484329.37</td>\n",
       "      <td>616886.72</td>\n",
       "      <td>0</td>\n",
       "      <td>0</td>\n",
       "    </tr>\n",
       "    <tr>\n",
       "      <th>1048571</th>\n",
       "      <td>95</td>\n",
       "      <td>PAYMENT</td>\n",
       "      <td>9917.36</td>\n",
       "      <td>C1956161225</td>\n",
       "      <td>90545.00</td>\n",
       "      <td>80627.64</td>\n",
       "      <td>M668364942</td>\n",
       "      <td>0.00</td>\n",
       "      <td>0.00</td>\n",
       "      <td>0</td>\n",
       "      <td>0</td>\n",
       "    </tr>\n",
       "    <tr>\n",
       "      <th>1048572</th>\n",
       "      <td>95</td>\n",
       "      <td>PAYMENT</td>\n",
       "      <td>14140.05</td>\n",
       "      <td>C2037964975</td>\n",
       "      <td>20545.00</td>\n",
       "      <td>6404.95</td>\n",
       "      <td>M1355182933</td>\n",
       "      <td>0.00</td>\n",
       "      <td>0.00</td>\n",
       "      <td>0</td>\n",
       "      <td>0</td>\n",
       "    </tr>\n",
       "    <tr>\n",
       "      <th>1048573</th>\n",
       "      <td>95</td>\n",
       "      <td>PAYMENT</td>\n",
       "      <td>10020.05</td>\n",
       "      <td>C1633237354</td>\n",
       "      <td>90605.00</td>\n",
       "      <td>80584.95</td>\n",
       "      <td>M1964992463</td>\n",
       "      <td>0.00</td>\n",
       "      <td>0.00</td>\n",
       "      <td>0</td>\n",
       "      <td>0</td>\n",
       "    </tr>\n",
       "    <tr>\n",
       "      <th>1048574</th>\n",
       "      <td>95</td>\n",
       "      <td>PAYMENT</td>\n",
       "      <td>11450.03</td>\n",
       "      <td>C1264356443</td>\n",
       "      <td>80584.95</td>\n",
       "      <td>69134.92</td>\n",
       "      <td>M677577406</td>\n",
       "      <td>0.00</td>\n",
       "      <td>0.00</td>\n",
       "      <td>0</td>\n",
       "      <td>0</td>\n",
       "    </tr>\n",
       "  </tbody>\n",
       "</table>\n",
       "</div>"
      ],
      "text/plain": [
       "         step      type     amount     nameOrig  oldbalanceOrg  \\\n",
       "1048570    95  CASH_OUT  132557.35  C1179511630      479803.00   \n",
       "1048571    95   PAYMENT    9917.36  C1956161225       90545.00   \n",
       "1048572    95   PAYMENT   14140.05  C2037964975       20545.00   \n",
       "1048573    95   PAYMENT   10020.05  C1633237354       90605.00   \n",
       "1048574    95   PAYMENT   11450.03  C1264356443       80584.95   \n",
       "\n",
       "         newbalanceOrig     nameDest  oldbalanceDest  newbalanceDest  isFraud  \\\n",
       "1048570       347245.65   C435674507       484329.37       616886.72        0   \n",
       "1048571        80627.64   M668364942            0.00            0.00        0   \n",
       "1048572         6404.95  M1355182933            0.00            0.00        0   \n",
       "1048573        80584.95  M1964992463            0.00            0.00        0   \n",
       "1048574        69134.92   M677577406            0.00            0.00        0   \n",
       "\n",
       "         isFlaggedFraud  \n",
       "1048570               0  \n",
       "1048571               0  \n",
       "1048572               0  \n",
       "1048573               0  \n",
       "1048574               0  "
      ]
     },
     "execution_count": 3,
     "metadata": {},
     "output_type": "execute_result"
    }
   ],
   "source": [
    "df.tail()"
   ]
  },
  {
   "cell_type": "code",
   "execution_count": 4,
   "metadata": {},
   "outputs": [
    {
     "name": "stdout",
     "output_type": "stream",
     "text": [
      "Dataset shape: (1048575, 11)\n",
      "\n",
      "Column names:\n",
      " Index(['step', 'type', 'amount', 'nameOrig', 'oldbalanceOrg', 'newbalanceOrig',\n",
      "       'nameDest', 'oldbalanceDest', 'newbalanceDest', 'isFraud',\n",
      "       'isFlaggedFraud'],\n",
      "      dtype='object')\n",
      "\n",
      "Summary statistics:\n",
      "                step        amount  oldbalanceOrg  newbalanceOrig  \\\n",
      "count  1.048575e+06  1.048575e+06   1.048575e+06    1.048575e+06   \n",
      "mean   2.696617e+01  1.586670e+05   8.740055e+05    8.938049e+05   \n",
      "std    1.562325e+01  2.649409e+05   2.971725e+06    3.008246e+06   \n",
      "min    1.000000e+00  1.000000e-01   0.000000e+00    0.000000e+00   \n",
      "25%    1.500000e+01  1.214907e+04   0.000000e+00    0.000000e+00   \n",
      "50%    2.000000e+01  7.634333e+04   1.600200e+04    0.000000e+00   \n",
      "75%    3.900000e+01  2.137619e+05   1.366420e+05    1.746000e+05   \n",
      "max    9.500000e+01  1.000000e+07   3.893942e+07    3.894623e+07   \n",
      "\n",
      "       oldbalanceDest  newbalanceDest       isFraud  isFlaggedFraud  \n",
      "count    1.048575e+06    1.048575e+06  1.048575e+06       1048575.0  \n",
      "mean     9.781600e+05    1.114193e+06  1.089097e-03             0.0  \n",
      "std      2.296779e+06    2.416554e+06  3.298351e-02             0.0  \n",
      "min      0.000000e+00    0.000000e+00  0.000000e+00             0.0  \n",
      "25%      0.000000e+00    0.000000e+00  0.000000e+00             0.0  \n",
      "50%      1.263772e+05    2.182604e+05  0.000000e+00             0.0  \n",
      "75%      9.159235e+05    1.149808e+06  0.000000e+00             0.0  \n",
      "max      4.205466e+07    4.216916e+07  1.000000e+00             0.0  \n"
     ]
    }
   ],
   "source": [
    "# Explore the data\n",
    "print(\"Dataset shape:\", df.shape)\n",
    "print(\"\\nColumn names:\\n\", df.columns)\n",
    "print(\"\\nSummary statistics:\\n\", df.describe())\n",
    "\n"
   ]
  },
  {
   "cell_type": "code",
   "execution_count": 6,
   "metadata": {},
   "outputs": [
    {
     "name": "stdout",
     "output_type": "stream",
     "text": [
      "\n",
      "Missing values:\n",
      " step              0\n",
      "type              0\n",
      "amount            0\n",
      "nameOrig          0\n",
      "oldbalanceOrg     0\n",
      "newbalanceOrig    0\n",
      "nameDest          0\n",
      "oldbalanceDest    0\n",
      "newbalanceDest    0\n",
      "isFraud           0\n",
      "isFlaggedFraud    0\n",
      "dtype: int64\n"
     ]
    }
   ],
   "source": [
    "# Check for missing values\n",
    "print(\"\\nMissing values:\\n\", df.isnull().sum())\n",
    "\n"
   ]
  },
  {
   "cell_type": "code",
   "execution_count": 7,
   "metadata": {},
   "outputs": [
    {
     "name": "stdout",
     "output_type": "stream",
     "text": [
      "Number of rows:1,048,575\n",
      "Number of columns: 11\n"
     ]
    }
   ],
   "source": [
    "num_rows,num_columns= df.shape\n",
    "print(f'Number of rows:{num_rows:,}')\n",
    "print('Number of columns:',num_columns)"
   ]
  },
  {
   "cell_type": "code",
   "execution_count": 8,
   "metadata": {},
   "outputs": [
    {
     "data": {
      "text/plain": [
       "0"
      ]
     },
     "execution_count": 8,
     "metadata": {},
     "output_type": "execute_result"
    }
   ],
   "source": [
    "df.duplicated(). sum()  "
   ]
  },
  {
   "cell_type": "code",
   "execution_count": 9,
   "metadata": {},
   "outputs": [
    {
     "name": "stdout",
     "output_type": "stream",
     "text": [
      "type\n",
      "CASH_OUT    373641\n",
      "PAYMENT     353873\n",
      "CASH_IN     227130\n",
      "TRANSFER     86753\n",
      "DEBIT         7178\n",
      "Name: count, dtype: int64\n"
     ]
    }
   ],
   "source": [
    "unique_types = df['type'].unique();\n",
    "type_counts = df['type'].value_counts()\n",
    "\n",
    "num_unique_types = len(unique_types)\n",
    "print(type_counts)"
   ]
  },
  {
   "cell_type": "code",
   "execution_count": 10,
   "metadata": {},
   "outputs": [
    {
     "data": {
      "image/png": "[encoded data removed]",
      "text/plain": [
       "<Figure size 640x480 with 1 Axes>"
      ]
     },
     "metadata": {},
     "output_type": "display_data"
    },
    {
     "data": {
      "image/png": "[encoded data removed]",
      "text/plain": [
       "<Figure size 1600x1200 with 1 Axes>"
      ]
     },
     "metadata": {},
     "output_type": "display_data"
    }
   ],
   "source": [
    "# above are a total of five type of transactions, dataset, has shown that cashout type of a transaction has the highest number of a transaction among all of the other types, payment type comes second cashin third transfer fourth and debit type pf a transaction comes fifth \n",
    "plt.title('Transaction Count')\n",
    "plt.xlabel('Transaction Type')\n",
    "plt.ylabel('Count')\n",
    "plt.figure(figsize=(16,12))\n",
    "bars= type_counts.plot(kind='bar', color='skyblue')\n",
    "\n",
    "## label data on top of each bar\n",
    "for bar in bars.patches:\n",
    "    yval= bar.get_height()\n",
    "    plt.text(bar.get_x()+ bar.get_width()/2, yval+20000, f'{yval:,.0f}', ha ='center', va = 'bottom', fontsize= 10, color= 'green')\n",
    "\n",
    "## format\n",
    "plt.gca().yaxis.set_major_formatter(FuncFormatter(lambda value,_:f'{value:,.0f}'))\n",
    "plt.show()"
   ]
  },
  {
   "cell_type": "code",
   "execution_count": 11,
   "metadata": {},
   "outputs": [
    {
     "data": {
      "image/png": "[encoded data removed]",
      "text/plain": [
       "<Figure size 1000x800 with 1 Axes>"
      ]
     },
     "metadata": {},
     "output_type": "display_data"
    }
   ],
   "source": [
    "## group evey count by type\n",
    "all_counts_by_type = df.groupby('type').size()\n",
    "plt.figure(figsize=(10,8))\n",
    "plt.title('Percentage of all counts by their types')\n",
    "plt.pie(all_counts_by_type, labels= all_counts_by_type.index, autopct='%1.1f%%', startangle=90, colors=['blue', 'orange', 'green', 'red', 'yellow'])\n",
    "plt.show()"
   ]
  },
  {
   "cell_type": "code",
   "execution_count": 12,
   "metadata": {},
   "outputs": [
    {
     "data": {
      "image/png": "[encoded data removed]",
      "text/plain": [
       "<Figure size 1000x800 with 1 Axes>"
      ]
     },
     "metadata": {},
     "output_type": "display_data"
    }
   ],
   "source": [
    "## visualise the percentage of transactions by destination, i will be converting or replacing the transaction destination column that consists of a mix of(numbers and letter) to only selecting the letter and give it a name ('M, Merchant)(C, Customer)\n",
    "df_copy= df.copy();\n",
    "df_copy['nameDest_first_letter']=df_copy['nameDest'].str[0]\n",
    "df_copy['nameDest_first_letter']=df_copy['nameDest_first_letter'].replace('C','Customer')\n",
    "df_copy['nameDest_first_letter']=df_copy['nameDest_first_letter'].replace('M','Merchant')\n",
    "all_by_dest= df_copy.groupby('nameDest_first_letter').size()\n",
    "plt.figure(figsize=(10,8))\n",
    "plt.pie(all_by_dest,labels=all_by_dest.index, autopct='%1.1f%%', startangle=90, colors=['yellow','green'])\n",
    "plt.title('Transactions by Destination')\n",
    "plt.show()"
   ]
  },
  {
   "cell_type": "code",
   "execution_count": 14,
   "metadata": {},
   "outputs": [
    {
     "name": "stdout",
     "output_type": "stream",
     "text": [
      "count of fraud transactions: 1,142\n",
      "count of non fraud total transactions: 1,047,433\n"
     ]
    }
   ],
   "source": [
    "## total count of fraud and non_fraud transactions\n",
    "fraud_count= df[df['isFraud']==1]. shape[0]\n",
    "non_fraud_count=df[df['isFraud']==0]. shape[0]\n",
    "\n",
    "print(f'count of fraud transactions: {fraud_count:,.0f}')\n",
    "print(f'count of non fraud total transactions: {non_fraud_count:,.0f}')\n"
   ]
  },
  {
   "cell_type": "code",
   "execution_count": 15,
   "metadata": {},
   "outputs": [
    {
     "name": "stdout",
     "output_type": "stream",
     "text": [
      "fraud transactions percentage:0.11%\n",
      "non fraud transactions percentage: 99.89%\n"
     ]
    }
   ],
   "source": [
    "## totall of fraud and non-fraud transactions \n",
    "total_transactions= fraud_count + non_fraud_count\n",
    "\n",
    "fraud_percentage = (fraud_count/ total_transactions)*100\n",
    "non_fraud_percentage = (non_fraud_count/total_transactions)*100\n",
    "\n",
    "print(f'fraud transactions percentage:{fraud_percentage:.2f}%')\n",
    "print(f'non fraud transactions percentage: {non_fraud_percentage:.2f}%')"
   ]
  },
  {
   "cell_type": "code",
   "execution_count": 16,
   "metadata": {},
   "outputs": [
    {
     "data": {
      "image/png": "[encoded data removed]",
      "text/plain": [
       "<Figure size 1000x800 with 1 Axes>"
      ]
     },
     "metadata": {},
     "output_type": "display_data"
    }
   ],
   "source": [
    "## visualise the percentage of the farud and non fraud transactions\n",
    "labels = ['Fraud', 'Non_Fraud']\n",
    "colors =['orange','green']\n",
    "sizes = [fraud_percentage, non_fraud_percentage]\n",
    "\n",
    "\n",
    "fig, ax= plt.subplots(figsize=(10,8))\n",
    "ax.pie(sizes, labels=labels, autopct = '%1.2f%%', startangle = 90, colors=colors)\n",
    "centre_circle= plt.Circle((0,0),0.70, fc= 'white')\n",
    "fig.gca().add_artist(centre_circle)\n",
    "plt.title('proportion of Fraud and Non_Fraud Transactions')\n",
    "plt.show()"
   ]
  },
  {
   "cell_type": "code",
   "execution_count": 17,
   "metadata": {},
   "outputs": [
    {
     "data": {
      "image/png": "[encoded data removed]",
      "text/plain": [
       "<Figure size 1000x800 with 1 Axes>"
      ]
     },
     "metadata": {},
     "output_type": "display_data"
    },
    {
     "name": "stdout",
     "output_type": "stream",
     "text": [
      "type\n",
      "CASH_OUT    578\n",
      "TRANSFER    564\n",
      "dtype: int64\n"
     ]
    }
   ],
   "source": [
    "## after definingthe percentage of fraud and non_fraud transactions, the next step we will find the amount of fraud and non fraud transactions according to their types.\n",
    "## below visual showed that bank transfer and cash_out transactions are more likely to be fraud than the other different transaction types (cash_in, Debit). \n",
    "fraud_transactions= df[df['isFraud']==1]\n",
    "fraud_counts_by_type = fraud_transactions.groupby('type').size()\n",
    "\n",
    "plt.figure(figsize=(10,8))\n",
    "plt.title('percentage of fraud transactions according to type ')\n",
    "plt.pie(fraud_counts_by_type, labels = fraud_counts_by_type.index, autopct='%1.1f%%', startangle=100, colors= ['red','yellow'])\n",
    "plt.show()\n",
    "print(fraud_counts_by_type)\n"
   ]
  },
  {
   "cell_type": "code",
   "execution_count": 18,
   "metadata": {},
   "outputs": [
    {
     "data": {
      "text/html": [
       "<div>\n",
       "<style scoped>\n",
       "    .dataframe tbody tr th:only-of-type {\n",
       "        vertical-align: middle;\n",
       "    }\n",
       "\n",
       "    .dataframe tbody tr th {\n",
       "        vertical-align: top;\n",
       "    }\n",
       "\n",
       "    .dataframe thead th {\n",
       "        text-align: right;\n",
       "    }\n",
       "</style>\n",
       "<table border=\"1\" class=\"dataframe\">\n",
       "  <thead>\n",
       "    <tr style=\"text-align: right;\">\n",
       "      <th></th>\n",
       "      <th>step</th>\n",
       "      <th>amount</th>\n",
       "      <th>nameOrig</th>\n",
       "      <th>oldbalanceOrg</th>\n",
       "      <th>newbalanceOrig</th>\n",
       "      <th>nameDest</th>\n",
       "      <th>oldbalanceDest</th>\n",
       "      <th>newbalanceDest</th>\n",
       "      <th>isFraud</th>\n",
       "      <th>isFlaggedFraud</th>\n",
       "      <th>type_CASH_OUT</th>\n",
       "      <th>type_DEBIT</th>\n",
       "      <th>type_PAYMENT</th>\n",
       "      <th>type_TRANSFER</th>\n",
       "    </tr>\n",
       "  </thead>\n",
       "  <tbody>\n",
       "    <tr>\n",
       "      <th>0</th>\n",
       "      <td>1</td>\n",
       "      <td>9839.64</td>\n",
       "      <td>C1231006815</td>\n",
       "      <td>170136.0</td>\n",
       "      <td>160296.36</td>\n",
       "      <td>M1979787155</td>\n",
       "      <td>0.0</td>\n",
       "      <td>0.0</td>\n",
       "      <td>0</td>\n",
       "      <td>0</td>\n",
       "      <td>False</td>\n",
       "      <td>False</td>\n",
       "      <td>True</td>\n",
       "      <td>False</td>\n",
       "    </tr>\n",
       "    <tr>\n",
       "      <th>1</th>\n",
       "      <td>1</td>\n",
       "      <td>1864.28</td>\n",
       "      <td>C1666544295</td>\n",
       "      <td>21249.0</td>\n",
       "      <td>19384.72</td>\n",
       "      <td>M2044282225</td>\n",
       "      <td>0.0</td>\n",
       "      <td>0.0</td>\n",
       "      <td>0</td>\n",
       "      <td>0</td>\n",
       "      <td>False</td>\n",
       "      <td>False</td>\n",
       "      <td>True</td>\n",
       "      <td>False</td>\n",
       "    </tr>\n",
       "    <tr>\n",
       "      <th>2</th>\n",
       "      <td>1</td>\n",
       "      <td>181.00</td>\n",
       "      <td>C1305486145</td>\n",
       "      <td>181.0</td>\n",
       "      <td>0.00</td>\n",
       "      <td>C553264065</td>\n",
       "      <td>0.0</td>\n",
       "      <td>0.0</td>\n",
       "      <td>1</td>\n",
       "      <td>0</td>\n",
       "      <td>False</td>\n",
       "      <td>False</td>\n",
       "      <td>False</td>\n",
       "      <td>True</td>\n",
       "    </tr>\n",
       "    <tr>\n",
       "      <th>3</th>\n",
       "      <td>1</td>\n",
       "      <td>181.00</td>\n",
       "      <td>C840083671</td>\n",
       "      <td>181.0</td>\n",
       "      <td>0.00</td>\n",
       "      <td>C38997010</td>\n",
       "      <td>21182.0</td>\n",
       "      <td>0.0</td>\n",
       "      <td>1</td>\n",
       "      <td>0</td>\n",
       "      <td>True</td>\n",
       "      <td>False</td>\n",
       "      <td>False</td>\n",
       "      <td>False</td>\n",
       "    </tr>\n",
       "    <tr>\n",
       "      <th>4</th>\n",
       "      <td>1</td>\n",
       "      <td>11668.14</td>\n",
       "      <td>C2048537720</td>\n",
       "      <td>41554.0</td>\n",
       "      <td>29885.86</td>\n",
       "      <td>M1230701703</td>\n",
       "      <td>0.0</td>\n",
       "      <td>0.0</td>\n",
       "      <td>0</td>\n",
       "      <td>0</td>\n",
       "      <td>False</td>\n",
       "      <td>False</td>\n",
       "      <td>True</td>\n",
       "      <td>False</td>\n",
       "    </tr>\n",
       "  </tbody>\n",
       "</table>\n",
       "</div>"
      ],
      "text/plain": [
       "   step    amount     nameOrig  oldbalanceOrg  newbalanceOrig     nameDest  \\\n",
       "0     1   9839.64  C1231006815       170136.0       160296.36  M1979787155   \n",
       "1     1   1864.28  C1666544295        21249.0        19384.72  M2044282225   \n",
       "2     1    181.00  C1305486145          181.0            0.00   C553264065   \n",
       "3     1    181.00   C840083671          181.0            0.00    C38997010   \n",
       "4     1  11668.14  C2048537720        41554.0        29885.86  M1230701703   \n",
       "\n",
       "   oldbalanceDest  newbalanceDest  isFraud  isFlaggedFraud  type_CASH_OUT  \\\n",
       "0             0.0             0.0        0               0          False   \n",
       "1             0.0             0.0        0               0          False   \n",
       "2             0.0             0.0        1               0          False   \n",
       "3         21182.0             0.0        1               0           True   \n",
       "4             0.0             0.0        0               0          False   \n",
       "\n",
       "   type_DEBIT  type_PAYMENT  type_TRANSFER  \n",
       "0       False          True          False  \n",
       "1       False          True          False  \n",
       "2       False         False           True  \n",
       "3       False         False          False  \n",
       "4       False          True          False  "
      ]
     },
     "execution_count": 18,
     "metadata": {},
     "output_type": "execute_result"
    }
   ],
   "source": [
    "df_encoded = pd.get_dummies(df, columns=['type'], drop_first=True)\n",
    "df_encoded.head()"
   ]
  },
  {
   "cell_type": "code",
   "execution_count": 19,
   "metadata": {},
   "outputs": [],
   "source": [
    "## Data Processing \n",
    "processesed_df= df_copy\n",
    "## drop the IsFlaggedFraud column as itis clear that after assessing the data above this column does not serve a meaningful purpose in our dataser\n",
    "## and will not have a direct imapct on deciding whether the transaction is faud or not \n",
    "processesed_df.drop('isFlaggedFraud',axis=1, inplace= True)\n"
   ]
  },
  {
   "cell_type": "code",
   "execution_count": 20,
   "metadata": {},
   "outputs": [],
   "source": [
    "## exclude the CASH_IN, PAYMENT, AND DEBIT transactions,\n",
    "## and we came to this decision after assessing the data and found out in the above assessment earlier that most fraudulent transactions was from a CASH_OUT AND TRANSFERS type of transactions.\n",
    "types_to_exclude= ['CASH_IN','PAYMENT', 'DEBIT']\n",
    "processesed_df=processesed_df[~processesed_df['type'].isin(types_to_exclude)]"
   ]
  },
  {
   "cell_type": "code",
   "execution_count": 21,
   "metadata": {},
   "outputs": [
    {
     "data": {
      "text/html": [
       "<div>\n",
       "<style scoped>\n",
       "    .dataframe tbody tr th:only-of-type {\n",
       "        vertical-align: middle;\n",
       "    }\n",
       "\n",
       "    .dataframe tbody tr th {\n",
       "        vertical-align: top;\n",
       "    }\n",
       "\n",
       "    .dataframe thead th {\n",
       "        text-align: right;\n",
       "    }\n",
       "</style>\n",
       "<table border=\"1\" class=\"dataframe\">\n",
       "  <thead>\n",
       "    <tr style=\"text-align: right;\">\n",
       "      <th></th>\n",
       "      <th>step</th>\n",
       "      <th>type</th>\n",
       "      <th>amount</th>\n",
       "      <th>nameOrig</th>\n",
       "      <th>oldbalanceOrg</th>\n",
       "      <th>newbalanceOrig</th>\n",
       "      <th>nameDest</th>\n",
       "      <th>oldbalanceDest</th>\n",
       "      <th>newbalanceDest</th>\n",
       "      <th>isFraud</th>\n",
       "      <th>nameDest_first_letter</th>\n",
       "    </tr>\n",
       "  </thead>\n",
       "  <tbody>\n",
       "    <tr>\n",
       "      <th>2</th>\n",
       "      <td>1</td>\n",
       "      <td>TRANSFER</td>\n",
       "      <td>181.00</td>\n",
       "      <td>C1305486145</td>\n",
       "      <td>181.00</td>\n",
       "      <td>0.00</td>\n",
       "      <td>C553264065</td>\n",
       "      <td>0.00</td>\n",
       "      <td>0.00</td>\n",
       "      <td>1</td>\n",
       "      <td>Customer</td>\n",
       "    </tr>\n",
       "    <tr>\n",
       "      <th>3</th>\n",
       "      <td>1</td>\n",
       "      <td>CASH_OUT</td>\n",
       "      <td>181.00</td>\n",
       "      <td>C840083671</td>\n",
       "      <td>181.00</td>\n",
       "      <td>0.00</td>\n",
       "      <td>C38997010</td>\n",
       "      <td>21182.00</td>\n",
       "      <td>0.00</td>\n",
       "      <td>1</td>\n",
       "      <td>Customer</td>\n",
       "    </tr>\n",
       "    <tr>\n",
       "      <th>15</th>\n",
       "      <td>1</td>\n",
       "      <td>CASH_OUT</td>\n",
       "      <td>229133.94</td>\n",
       "      <td>C905080434</td>\n",
       "      <td>15325.00</td>\n",
       "      <td>0.00</td>\n",
       "      <td>C476402209</td>\n",
       "      <td>5083.00</td>\n",
       "      <td>51513.44</td>\n",
       "      <td>0</td>\n",
       "      <td>Customer</td>\n",
       "    </tr>\n",
       "    <tr>\n",
       "      <th>19</th>\n",
       "      <td>1</td>\n",
       "      <td>TRANSFER</td>\n",
       "      <td>215310.30</td>\n",
       "      <td>C1670993182</td>\n",
       "      <td>705.00</td>\n",
       "      <td>0.00</td>\n",
       "      <td>C1100439041</td>\n",
       "      <td>22425.00</td>\n",
       "      <td>0.00</td>\n",
       "      <td>0</td>\n",
       "      <td>Customer</td>\n",
       "    </tr>\n",
       "    <tr>\n",
       "      <th>24</th>\n",
       "      <td>1</td>\n",
       "      <td>TRANSFER</td>\n",
       "      <td>311685.89</td>\n",
       "      <td>C1984094095</td>\n",
       "      <td>10835.00</td>\n",
       "      <td>0.00</td>\n",
       "      <td>C932583850</td>\n",
       "      <td>6267.00</td>\n",
       "      <td>2719172.89</td>\n",
       "      <td>0</td>\n",
       "      <td>Customer</td>\n",
       "    </tr>\n",
       "    <tr>\n",
       "      <th>...</th>\n",
       "      <td>...</td>\n",
       "      <td>...</td>\n",
       "      <td>...</td>\n",
       "      <td>...</td>\n",
       "      <td>...</td>\n",
       "      <td>...</td>\n",
       "      <td>...</td>\n",
       "      <td>...</td>\n",
       "      <td>...</td>\n",
       "      <td>...</td>\n",
       "      <td>...</td>\n",
       "    </tr>\n",
       "    <tr>\n",
       "      <th>1048553</th>\n",
       "      <td>95</td>\n",
       "      <td>CASH_OUT</td>\n",
       "      <td>103391.93</td>\n",
       "      <td>C2021893664</td>\n",
       "      <td>107623.00</td>\n",
       "      <td>4231.07</td>\n",
       "      <td>C178178755</td>\n",
       "      <td>5752648.68</td>\n",
       "      <td>5856040.61</td>\n",
       "      <td>0</td>\n",
       "      <td>Customer</td>\n",
       "    </tr>\n",
       "    <tr>\n",
       "      <th>1048558</th>\n",
       "      <td>95</td>\n",
       "      <td>CASH_OUT</td>\n",
       "      <td>26535.41</td>\n",
       "      <td>C1213094114</td>\n",
       "      <td>104187.00</td>\n",
       "      <td>77651.59</td>\n",
       "      <td>C216374600</td>\n",
       "      <td>205460.26</td>\n",
       "      <td>231995.66</td>\n",
       "      <td>0</td>\n",
       "      <td>Customer</td>\n",
       "    </tr>\n",
       "    <tr>\n",
       "      <th>1048565</th>\n",
       "      <td>95</td>\n",
       "      <td>TRANSFER</td>\n",
       "      <td>132387.24</td>\n",
       "      <td>C1654402840</td>\n",
       "      <td>15956.51</td>\n",
       "      <td>0.00</td>\n",
       "      <td>C1878219072</td>\n",
       "      <td>631284.08</td>\n",
       "      <td>763671.32</td>\n",
       "      <td>0</td>\n",
       "      <td>Customer</td>\n",
       "    </tr>\n",
       "    <tr>\n",
       "      <th>1048567</th>\n",
       "      <td>95</td>\n",
       "      <td>CASH_OUT</td>\n",
       "      <td>279674.05</td>\n",
       "      <td>C990252469</td>\n",
       "      <td>18002.85</td>\n",
       "      <td>0.00</td>\n",
       "      <td>C574439165</td>\n",
       "      <td>1847488.28</td>\n",
       "      <td>2127162.32</td>\n",
       "      <td>0</td>\n",
       "      <td>Customer</td>\n",
       "    </tr>\n",
       "    <tr>\n",
       "      <th>1048570</th>\n",
       "      <td>95</td>\n",
       "      <td>CASH_OUT</td>\n",
       "      <td>132557.35</td>\n",
       "      <td>C1179511630</td>\n",
       "      <td>479803.00</td>\n",
       "      <td>347245.65</td>\n",
       "      <td>C435674507</td>\n",
       "      <td>484329.37</td>\n",
       "      <td>616886.72</td>\n",
       "      <td>0</td>\n",
       "      <td>Customer</td>\n",
       "    </tr>\n",
       "  </tbody>\n",
       "</table>\n",
       "<p>460394 rows × 11 columns</p>\n",
       "</div>"
      ],
      "text/plain": [
       "         step      type     amount     nameOrig  oldbalanceOrg  \\\n",
       "2           1  TRANSFER     181.00  C1305486145         181.00   \n",
       "3           1  CASH_OUT     181.00   C840083671         181.00   \n",
       "15          1  CASH_OUT  229133.94   C905080434       15325.00   \n",
       "19          1  TRANSFER  215310.30  C1670993182         705.00   \n",
       "24          1  TRANSFER  311685.89  C1984094095       10835.00   \n",
       "...       ...       ...        ...          ...            ...   \n",
       "1048553    95  CASH_OUT  103391.93  C2021893664      107623.00   \n",
       "1048558    95  CASH_OUT   26535.41  C1213094114      104187.00   \n",
       "1048565    95  TRANSFER  132387.24  C1654402840       15956.51   \n",
       "1048567    95  CASH_OUT  279674.05   C990252469       18002.85   \n",
       "1048570    95  CASH_OUT  132557.35  C1179511630      479803.00   \n",
       "\n",
       "         newbalanceOrig     nameDest  oldbalanceDest  newbalanceDest  isFraud  \\\n",
       "2                  0.00   C553264065            0.00            0.00        1   \n",
       "3                  0.00    C38997010        21182.00            0.00        1   \n",
       "15                 0.00   C476402209         5083.00        51513.44        0   \n",
       "19                 0.00  C1100439041        22425.00            0.00        0   \n",
       "24                 0.00   C932583850         6267.00      2719172.89        0   \n",
       "...                 ...          ...             ...             ...      ...   \n",
       "1048553         4231.07   C178178755      5752648.68      5856040.61        0   \n",
       "1048558        77651.59   C216374600       205460.26       231995.66        0   \n",
       "1048565            0.00  C1878219072       631284.08       763671.32        0   \n",
       "1048567            0.00   C574439165      1847488.28      2127162.32        0   \n",
       "1048570       347245.65   C435674507       484329.37       616886.72        0   \n",
       "\n",
       "        nameDest_first_letter  \n",
       "2                    Customer  \n",
       "3                    Customer  \n",
       "15                   Customer  \n",
       "19                   Customer  \n",
       "24                   Customer  \n",
       "...                       ...  \n",
       "1048553              Customer  \n",
       "1048558              Customer  \n",
       "1048565              Customer  \n",
       "1048567              Customer  \n",
       "1048570              Customer  \n",
       "\n",
       "[460394 rows x 11 columns]"
      ]
     },
     "execution_count": 21,
     "metadata": {},
     "output_type": "execute_result"
    }
   ],
   "source": [
    "processesed_df"
   ]
  },
  {
   "cell_type": "code",
   "execution_count": 22,
   "metadata": {},
   "outputs": [
    {
     "name": "stderr",
     "output_type": "stream",
     "text": [
      "/var/folders/70/zcppwt790svbctwyy4ddlw5w0000gn/T/ipykernel_14491/4266203327.py:2: SettingWithCopyWarning: \n",
      "A value is trying to be set on a copy of a slice from a DataFrame\n",
      "\n",
      "See the caveats in the documentation: https://pandas.pydata.org/pandas-docs/stable/user_guide/indexing.html#returning-a-view-versus-a-copy\n",
      "  processesed_df.drop(columns=['nameDest','nameOrig'], axis=1, inplace=True)\n"
     ]
    }
   ],
   "source": [
    "## as of now we have shotened our data set but still more to drop. nameDest and Name org will be removed as they seem unnecessary for our analysis and wont affect our decision making \n",
    "processesed_df.drop(columns=['nameDest','nameOrig'], axis=1, inplace=True)\n",
    "\n"
   ]
  },
  {
   "cell_type": "code",
   "execution_count": 23,
   "metadata": {},
   "outputs": [
    {
     "name": "stderr",
     "output_type": "stream",
     "text": [
      "/var/folders/70/zcppwt790svbctwyy4ddlw5w0000gn/T/ipykernel_10816/1001489814.py:3: SettingWithCopyWarning: \n",
      "A value is trying to be set on a copy of a slice from a DataFrame.\n",
      "Try using .loc[row_indexer,col_indexer] = value instead\n",
      "\n",
      "See the caveats in the documentation: https://pandas.pydata.org/pandas-docs/stable/user_guide/indexing.html#returning-a-view-versus-a-copy\n",
      "  processesed_df['type']= label_encoder.fit_transform(processesed_df['type'])\n"
     ]
    }
   ],
   "source": [
    "## label every transaction type with a numerical data or converting it into a format that will be suitable for machine learning. and will be using the label encoder\n",
    "label_encoder= LabelEncoder()\n",
    "processesed_df['type']= label_encoder.fit_transform(processesed_df['type'])"
   ]
  },
  {
   "cell_type": "code",
   "execution_count": 23,
   "metadata": {},
   "outputs": [
    {
     "name": "stderr",
     "output_type": "stream",
     "text": [
      "/var/folders/70/zcppwt790svbctwyy4ddlw5w0000gn/T/ipykernel_14491/4247715904.py:5: SettingWithCopyWarning: \n",
      "A value is trying to be set on a copy of a slice from a DataFrame.\n",
      "Try using .loc[row_indexer,col_indexer] = value instead\n",
      "\n",
      "See the caveats in the documentation: https://pandas.pydata.org/pandas-docs/stable/user_guide/indexing.html#returning-a-view-versus-a-copy\n",
      "  processesed_df[column]= np.log1p(processesed_df[column])\n"
     ]
    },
    {
     "name": "stdout",
     "output_type": "stream",
     "text": [
      "             step      type    amount  oldbalanceOrg  newbalanceOrig  \\\n",
      "2       -2.566189  TRANSFER -5.296270      -0.046444        0.000000   \n",
      "3       -2.566189  CASH_OUT -5.296270      -0.046444        0.000000   \n",
      "15      -2.566189  CASH_OUT  0.197832       0.379878        0.000000   \n",
      "19      -2.566189  TRANSFER  0.149937       0.083916        0.000000   \n",
      "24      -2.566189  TRANSFER  0.434657       0.346540        0.000000   \n",
      "...           ...       ...       ...            ...             ...   \n",
      "1048553  1.658672  CASH_OUT -0.414669       0.567310        8.350447   \n",
      "1048558  1.658672  CASH_OUT -1.461463       0.564190       11.260000   \n",
      "1048565  1.658672  TRANSFER -0.224399       0.383761        0.000000   \n",
      "1048567  1.658672  CASH_OUT  0.351245       0.395364        0.000000   \n",
      "1048570  1.658672  CASH_OUT -0.223411       0.711049       12.757791   \n",
      "\n",
      "         oldbalanceDest  newbalanceDest  isFraud nameDest_first_letter  \n",
      "2             -5.079499       -7.471921        1              Customer  \n",
      "3             -1.250284       -7.471921        1              Customer  \n",
      "15            -1.798894       -1.543319        0              Customer  \n",
      "19            -1.228364       -7.471921        0              Customer  \n",
      "24            -1.718411        0.623959        0              Customer  \n",
      "...                 ...             ...      ...                   ...  \n",
      "1048553        0.904103        1.043154        0              Customer  \n",
      "1048558       -0.376854       -0.721012        0              Customer  \n",
      "1048565        0.054661       -0.069982        0              Customer  \n",
      "1048567        0.467463        0.489788        0              Customer  \n",
      "1048570       -0.047208       -0.186619        0              Customer  \n",
      "\n",
      "[460394 rows x 9 columns]\n"
     ]
    },
    {
     "name": "stderr",
     "output_type": "stream",
     "text": [
      "/var/folders/70/zcppwt790svbctwyy4ddlw5w0000gn/T/ipykernel_14491/4247715904.py:7: SettingWithCopyWarning: \n",
      "A value is trying to be set on a copy of a slice from a DataFrame.\n",
      "Try using .loc[row_indexer,col_indexer] = value instead\n",
      "\n",
      "See the caveats in the documentation: https://pandas.pydata.org/pandas-docs/stable/user_guide/indexing.html#returning-a-view-versus-a-copy\n",
      "  processesed_df[numeric_columns] = robust_scaler.fit_transform(processesed_df[numeric_columns])\n"
     ]
    }
   ],
   "source": [
    "## after trying the standadrd scaler and it still have longer running time because of the higher numerical values and not standardised we are going to try the robustscaler based on their IQR interquartile range.\n",
    "## because this data have outliers as it leverages the median instead of the mean and the standard deviation.\n",
    "numeric_columns = ['step', 'amount', 'oldbalanceOrg', 'newbalanceOrig', 'oldbalanceDest', 'newbalanceDest']\n",
    "for column in numeric_columns:\n",
    "    processesed_df[column]= np.log1p(processesed_df[column])\n",
    "robust_scaler = RobustScaler()\n",
    "processesed_df[numeric_columns] = robust_scaler.fit_transform(processesed_df[numeric_columns])\n",
    "\n",
    "print(processesed_df)\n"
   ]
  },
  {
   "cell_type": "code",
   "execution_count": 32,
   "metadata": {},
   "outputs": [],
   "source": [
    "## evaluating different models, train test and split data and checcking the accuracy\n",
    "## we are going to split the data into X AND Y, \n",
    "X = processesed_df[['step', 'amount', 'oldbalanceOrg', 'newbalanceOrig', 'oldbalanceDest', 'newbalanceDest']]\n",
    "Y = processesed_df['isFraud']\n",
    "X_train,X_test,Y_train,Y_test= train_test_split(X,Y, test_size=0.5, random_state=45, stratify=Y)"
   ]
  },
  {
   "cell_type": "code",
   "execution_count": 33,
   "metadata": {},
   "outputs": [],
   "source": [
    "## Logistic regression \n",
    "logreg_model= LogisticRegression(random_state=45)\n",
    "## choosing the same random state as in the training testing and spliting data above for the classification algorithm to predict the outcomes.\n"
   ]
  },
  {
   "cell_type": "code",
   "execution_count": 34,
   "metadata": {},
   "outputs": [],
   "source": [
    "logreg_model.fit(X_train,Y_train)\n",
    "y_pred = logreg_model.predict(X_test)"
   ]
  },
  {
   "cell_type": "code",
   "execution_count": 38,
   "metadata": {},
   "outputs": [],
   "source": [
    "# Decision Tree Classifier\n",
    "dt= DecisionTreeClassifier ()\n",
    "dt.fit(X_train,Y_train)\n",
    "y_pred_dt= dt.predict(X_test)"
   ]
  },
  {
   "cell_type": "code",
   "execution_count": 39,
   "metadata": {},
   "outputs": [],
   "source": [
    "## Random Forest Classifier\n",
    "rf = RandomForestClassifier()\n",
    "rf.fit(X_train,Y_train)\n",
    "y_pred_rf = rf.predict(X_test)"
   ]
  },
  {
   "cell_type": "code",
   "execution_count": 41,
   "metadata": {},
   "outputs": [
    {
     "name": "stdout",
     "output_type": "stream",
     "text": [
      "Logistic Regression classification report: \n",
      "\n",
      "               precision    recall  f1-score   support\n",
      "\n",
      "           0       1.00      1.00      1.00    229626\n",
      "           1       0.97      0.34      0.51       571\n",
      "\n",
      "    accuracy                           1.00    230197\n",
      "   macro avg       0.98      0.67      0.75    230197\n",
      "weighted avg       1.00      1.00      1.00    230197\n",
      "\n"
     ]
    }
   ],
   "source": [
    "## Classification Report and Evaluation\n",
    "print(\"Logistic Regression classification report: \\n\\n\"  ,classification_report(Y_test,y_pred))"
   ]
  },
  {
   "cell_type": "code",
   "execution_count": 42,
   "metadata": {},
   "outputs": [
    {
     "name": "stdout",
     "output_type": "stream",
     "text": [
      "Decision Tree classification report: \n",
      "\n",
      "               precision    recall  f1-score   support\n",
      "\n",
      "           0       1.00      1.00      1.00    229626\n",
      "           1       0.76      0.78      0.77       571\n",
      "\n",
      "    accuracy                           1.00    230197\n",
      "   macro avg       0.88      0.89      0.89    230197\n",
      "weighted avg       1.00      1.00      1.00    230197\n",
      "\n"
     ]
    }
   ],
   "source": [
    "print(\"Decision Tree classification report: \\n\\n\"  ,classification_report(Y_test,y_pred_dt))"
   ]
  },
  {
   "cell_type": "code",
   "execution_count": 43,
   "metadata": {},
   "outputs": [
    {
     "name": "stdout",
     "output_type": "stream",
     "text": [
      "Random Forest classification report: \n",
      "\n",
      "               precision    recall  f1-score   support\n",
      "\n",
      "           0       1.00      1.00      1.00    229626\n",
      "           1       0.97      0.74      0.84       571\n",
      "\n",
      "    accuracy                           1.00    230197\n",
      "   macro avg       0.99      0.87      0.92    230197\n",
      "weighted avg       1.00      1.00      1.00    230197\n",
      "\n"
     ]
    }
   ],
   "source": [
    "print(\"Random Forest classification report: \\n\\n\"  ,classification_report(Y_test,y_pred_rf))"
   ]
  },
  {
   "cell_type": "code",
   "execution_count": 44,
   "metadata": {},
   "outputs": [
    {
     "name": "stdout",
     "output_type": "stream",
     "text": [
      "Logistic Regression Accuracy Score: 0.998340551788251\n",
      "Decision Tree Accuracy Score:  0.9988575003149476\n",
      "Random Forest accuracy score:  0.9993092872626489\n"
     ]
    }
   ],
   "source": [
    "print(\"Logistic Regression Accuracy Score:\", accuracy_score(Y_test,y_pred))\n",
    "print(\"Decision Tree Accuracy Score: \", accuracy_score(Y_test,y_pred_dt))\n",
    "print(\"Random Forest accuracy score: \", accuracy_score(Y_test,y_pred_rf))"
   ]
  },
  {
   "cell_type": "code",
   "execution_count": 45,
   "metadata": {},
   "outputs": [],
   "source": [
    "# Create a supervised machine learning model (ANN)\n",
    "model = Sequential()\n",
    "model.add(Dense(10, input_dim=X_train.shape[1], activation='relu'))\n",
    "model.add(Dense(1, activation='sigmoid'))\n",
    "model.compile(loss='binary_crossentropy', optimizer='adam', metrics=['accuracy'])"
   ]
  },
  {
   "cell_type": "code",
   "execution_count": 46,
   "metadata": {},
   "outputs": [
    {
     "name": "stdout",
     "output_type": "stream",
     "text": [
      "Epoch 1/10\n",
      "7194/7194 [==============================] - 27s 3ms/step - loss: 0.0334 - accuracy: 0.9954\n",
      "Epoch 2/10\n",
      "7194/7194 [==============================] - 22s 3ms/step - loss: 0.0090 - accuracy: 0.9982\n",
      "Epoch 3/10\n",
      "7194/7194 [==============================] - 23s 3ms/step - loss: 0.0074 - accuracy: 0.9984\n",
      "Epoch 4/10\n",
      "7194/7194 [==============================] - 22s 3ms/step - loss: 0.0067 - accuracy: 0.9986\n",
      "Epoch 5/10\n",
      "7194/7194 [==============================] - 22s 3ms/step - loss: 0.0063 - accuracy: 0.9986\n",
      "Epoch 6/10\n",
      "7194/7194 [==============================] - 22s 3ms/step - loss: 0.0059 - accuracy: 0.9987\n",
      "Epoch 7/10\n",
      "7194/7194 [==============================] - 22s 3ms/step - loss: 0.0057 - accuracy: 0.9988\n",
      "Epoch 8/10\n",
      "7194/7194 [==============================] - 21s 3ms/step - loss: 0.0055 - accuracy: 0.9988\n",
      "Epoch 9/10\n",
      "7194/7194 [==============================] - 21s 3ms/step - loss: 0.0054 - accuracy: 0.9988\n",
      "Epoch 10/10\n",
      "7194/7194 [==============================] - 22s 3ms/step - loss: 0.0053 - accuracy: 0.9988\n"
     ]
    },
    {
     "data": {
      "text/plain": [
       "<keras.src.callbacks.History at 0x14ea9d6d0>"
      ]
     },
     "execution_count": 46,
     "metadata": {},
     "output_type": "execute_result"
    }
   ],
   "source": [
    "# Train the model using the training data\n",
    "model.fit(X_train, Y_train, epochs=10, batch_size=32)"
   ]
  },
  {
   "cell_type": "code",
   "execution_count": 48,
   "metadata": {},
   "outputs": [
    {
     "name": "stdout",
     "output_type": "stream",
     "text": [
      "7194/7194 [==============================] - 20s 3ms/step\n",
      "Accuracy: 0.9987011125253588\n"
     ]
    }
   ],
   "source": [
    "# Measure the accuracy of the model\n",
    "y_pred_ann = (model.predict(X_test) > 0.5).astype(\"int32\")\n",
    "accuracy = accuracy_score(Y_test, y_pred_ann)\n",
    "print(f'Accuracy: {accuracy}')\n"
   ]
  },
  {
   "cell_type": "code",
   "execution_count": 50,
   "metadata": {},
   "outputs": [
    {
     "data": {
      "image/png": "[encoded data removed]",
      "text/plain": [
       "<Figure size 640x480 with 2 Axes>"
      ]
     },
     "metadata": {},
     "output_type": "display_data"
    }
   ],
   "source": [
    "# Confusion matrix\n",
    "cm = confusion_matrix(Y_test, y_pred_ann)\n",
    "sns.heatmap(cm, annot=True)\n",
    "plt.show()"
   ]
  },
  {
   "cell_type": "code",
   "execution_count": 51,
   "metadata": {},
   "outputs": [
    {
     "name": "stdout",
     "output_type": "stream",
     "text": [
      "              precision    recall  f1-score   support\n",
      "\n",
      "           0       1.00      1.00      1.00    229626\n",
      "           1       0.94      0.51      0.66       571\n",
      "\n",
      "    accuracy                           1.00    230197\n",
      "   macro avg       0.97      0.76      0.83    230197\n",
      "weighted avg       1.00      1.00      1.00    230197\n",
      "\n"
     ]
    }
   ],
   "source": [
    "print(classification_report(Y_test, y_pred_ann))"
   ]
  }
 ],
 "metadata": {
  "kernelspec": {
   "display_name": "base",
   "language": "python",
   "name": "python3"
  },
  "language_info": {
   "codemirror_mode": {
    "name": "ipython",
    "version": 3
   },
   "file_extension": ".py",
   "mimetype": "text/x-python",
   "name": "python",
   "nbconvert_exporter": "python",
   "pygments_lexer": "ipython3",
   "version": "3.11.5"
  }
 },
 "nbformat": 4,
 "nbformat_minor": 2
}
